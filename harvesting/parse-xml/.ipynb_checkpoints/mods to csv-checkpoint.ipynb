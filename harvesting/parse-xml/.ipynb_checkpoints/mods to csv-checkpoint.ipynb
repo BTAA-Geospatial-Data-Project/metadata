{
 "cells": [
  {
   "cell_type": "code",
   "execution_count": 19,
   "id": "opposite-fantasy",
   "metadata": {},
   "outputs": [],
   "source": [
    "import csv\n",
    "import re\n",
    "import urllib.request\n",
    "from bs4 import BeautifulSoup\n",
    "import os\n",
    "import pandas as pd\n",
    "import lxml\n",
    "import xml.etree.ElementTree as ET"
   ]
  },
  {
   "cell_type": "code",
   "execution_count": 22,
   "id": "capable-cache",
   "metadata": {},
   "outputs": [
    {
     "data": {
      "text/plain": [
       "18"
      ]
     },
     "execution_count": 22,
     "metadata": {},
     "output_type": "execute_result"
    }
   ],
   "source": [
    "xml_path = r\"test\"\t# point to path\n",
    "\n",
    "dataset = []# empty list\n",
    "\n",
    "f = csv.writer(open('modResults.csv', 'w'))\n",
    "f.writerow(['Title','Identifier'])"
   ]
  },
  {
   "cell_type": "code",
   "execution_count": null,
   "id": "animated-machinery",
   "metadata": {},
   "outputs": [],
   "source": []
  },
  {
   "cell_type": "code",
   "execution_count": 33,
   "id": "unlikely-steam",
   "metadata": {},
   "outputs": [
    {
     "ename": "AttributeError",
     "evalue": "'NoneType' object has no attribute 'text'",
     "output_type": "error",
     "traceback": [
      "\u001b[0;31m---------------------------------------------------------------------------\u001b[0m",
      "\u001b[0;31mAttributeError\u001b[0m                            Traceback (most recent call last)",
      "\u001b[0;32m<ipython-input-33-b663019e35d1>\u001b[0m in \u001b[0;36m<module>\u001b[0;34m\u001b[0m\n\u001b[1;32m      7\u001b[0m             \u001b[0msoup\u001b[0m \u001b[0;34m=\u001b[0m \u001b[0mBeautifulSoup\u001b[0m\u001b[0;34m(\u001b[0m\u001b[0mfile_path\u001b[0m\u001b[0;34m,\u001b[0m \u001b[0;34m\"xml\"\u001b[0m\u001b[0;34m)\u001b[0m\u001b[0;34m\u001b[0m\u001b[0;34m\u001b[0m\u001b[0m\n\u001b[1;32m      8\u001b[0m             \u001b[0mtitleField\u001b[0m \u001b[0;34m=\u001b[0m \u001b[0msoup\u001b[0m\u001b[0;34m.\u001b[0m\u001b[0mfind\u001b[0m\u001b[0;34m(\u001b[0m\u001b[0;34m\"./mods:titleInfo\"\u001b[0m\u001b[0;34m)\u001b[0m\u001b[0;34m\u001b[0m\u001b[0;34m\u001b[0m\u001b[0m\n\u001b[0;32m----> 9\u001b[0;31m             \u001b[0mtitle\u001b[0m \u001b[0;34m=\u001b[0m \u001b[0msoup\u001b[0m\u001b[0;34m.\u001b[0m\u001b[0mfind\u001b[0m\u001b[0;34m(\u001b[0m\u001b[0;34m\"mods:title\"\u001b[0m\u001b[0;34m)\u001b[0m\u001b[0;34m.\u001b[0m\u001b[0mtext\u001b[0m\u001b[0;34m\u001b[0m\u001b[0;34m\u001b[0m\u001b[0m\n\u001b[0m\u001b[1;32m     10\u001b[0m \u001b[0;34m\u001b[0m\u001b[0m\n\u001b[1;32m     11\u001b[0m             \u001b[0;32mtry\u001b[0m\u001b[0;34m:\u001b[0m\u001b[0;34m\u001b[0m\u001b[0;34m\u001b[0m\u001b[0m\n",
      "\u001b[0;31mAttributeError\u001b[0m: 'NoneType' object has no attribute 'text'"
     ]
    }
   ],
   "source": [
    "#walkthrough all items, format and append to dataset list\n",
    "for path, dir, files in os.walk(xml_path):\n",
    "    for filename in files:\n",
    "    \tif filename.endswith(\".xml\"):\n",
    "            file_path = os.path.join(path, filename)\n",
    "            xml_file_open = open(file_path, 'rb')\n",
    "            data = xml_file_open.read().decode('utf-8', errors='ignore')\n",
    "            loaded = xml.loads(data)\n",
    "            dataset.append(loaded)\n",
    "\n",
    "            soup = BeautifulSoup(file_path, \"xml\")\n",
    "            titleField = soup.find(\"./mods:titleInfo\")\n",
    "            title = soup.find(\"mods:title\").text\n",
    "\n",
    "            try:\n",
    "                scraped_title = title.text.strip()\n",
    "            except:\n",
    "                scraped_title = \"undefined\"\n",
    "                \n",
    "            print(scrapted_title)\n",
    "#             try:\n",
    "#                 scraped_identifier = abstractField.text.encode('utf-8').strip()\n",
    "#             except:\n",
    "#                 scraped_identifier = \"undefined\"\n",
    "\n",
    "# f.writerow([scraped_title,scraped_identifier])"
   ]
  },
  {
   "cell_type": "code",
   "execution_count": 5,
   "id": "formed-genealogy",
   "metadata": {},
   "outputs": [
    {
     "data": {
      "text/plain": [
       "21"
      ]
     },
     "execution_count": 5,
     "metadata": {},
     "output_type": "execute_result"
    }
   ],
   "source": [
    "\n"
   ]
  },
  {
   "cell_type": "code",
   "execution_count": null,
   "id": "mature-origin",
   "metadata": {},
   "outputs": [],
   "source": []
  },
  {
   "cell_type": "code",
   "execution_count": null,
   "id": "empty-captain",
   "metadata": {},
   "outputs": [],
   "source": []
  }
 ],
 "metadata": {
  "kernelspec": {
   "display_name": "Python 3",
   "language": "python",
   "name": "python3"
  },
  "language_info": {
   "codemirror_mode": {
    "name": "ipython",
    "version": 3
   },
   "file_extension": ".py",
   "mimetype": "text/x-python",
   "name": "python",
   "nbconvert_exporter": "python",
   "pygments_lexer": "ipython3",
   "version": "3.8.2"
  }
 },
 "nbformat": 4,
 "nbformat_minor": 5
}
